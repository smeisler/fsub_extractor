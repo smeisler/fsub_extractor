{
 "cells": [
  {
   "cell_type": "code",
   "execution_count": 1,
   "id": "3e9a14e9",
   "metadata": {},
   "outputs": [],
   "source": [
    "import fsub_extractor.utils.fury_viz as fv\n",
    "import pandas as pd \n",
    "import os.path as op"
   ]
  },
  {
   "cell_type": "code",
   "execution_count": 2,
   "id": "fd597504",
   "metadata": {},
   "outputs": [
    {
     "name": "stderr",
     "output_type": "stream",
     "text": [
      "/localhome/ekubota/anaconda3/envs/extractor_clean/lib/python3.10/site-packages/numpy/core/fromnumeric.py:2009: VisibleDeprecationWarning: Creating an ndarray from ragged nested sequences (which is a list-or-tuple of lists-or-tuples-or ndarrays with different lengths or shapes) is deprecated. If you meant to do this, you must specify 'dtype=object' when creating the ndarray.\n",
      "  result = asarray(a).shape\n"
     ]
    }
   ],
   "source": [
    "sub='subj04'\n",
    "hem='lh'\n",
    "rois = ['mOTS_words','mFus_faces']\n",
    "colors = [[0,0,1],[1,0,0]]\n",
    "\n",
    "extractor_dir = op.join('..','extractor_outputs',sub)\n",
    "ref_anat = op.join('..','freesurfer',sub,'mri','T1.nii.gz')\n",
    "streamline_actors = [None]*len(rois)\n",
    "roi_actors = [None]*len(rois)\n",
    "\n",
    "for r in range(len(rois)):\n",
    "    tck = op.join(extractor_dir,'dwi',hem+'_'+rois[r]+'_extracted.tck')\n",
    "    streamline_actors[r] = fv.define_streamline_actor(tck,ref_anat,colors[r])\n",
    "    roi_path = op.join(extractor_dir,'func',hem+'_'+rois[r]+'_'+hem+'_'+rois[r]+'.projected_gmwmi_intersected.nii.gz')\n",
    "    roi_actors[r]=fv.define_roi_actor(roi_path,colors[r],opacity=1)\n",
    "\n",
    "slice_actor = [None]*1\n",
    "slice_actor[0] = fv.define_slice_actor(ref_anat,view='saggital',offset=0)\n",
    "fname = op.join('..','figures', sub+'_'+hem+'_mFus_mOTS_AF.png')\n",
    "fv.visualize_bundles(streamline_actors,0,slice_actor,roi_actors,camera_angle='saggital',hemi = hem,filename=fname)"
   ]
  },
  {
   "cell_type": "code",
   "execution_count": null,
   "id": "34efb3c7",
   "metadata": {},
   "outputs": [],
   "source": []
  }
 ],
 "metadata": {
  "kernelspec": {
   "display_name": "Python 3 (ipykernel)",
   "language": "python",
   "name": "python3"
  },
  "language_info": {
   "codemirror_mode": {
    "name": "ipython",
    "version": 3
   },
   "file_extension": ".py",
   "mimetype": "text/x-python",
   "name": "python",
   "nbconvert_exporter": "python",
   "pygments_lexer": "ipython3",
   "version": "3.10.4"
  }
 },
 "nbformat": 4,
 "nbformat_minor": 5
}
