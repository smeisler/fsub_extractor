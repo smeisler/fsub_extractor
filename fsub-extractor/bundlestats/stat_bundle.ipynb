{
 "cells": [
  {
   "cell_type": "code",
   "execution_count": 1,
   "metadata": {
    "collapsed": true
   },
   "outputs": [],
   "source": [
    "import numpy as np\n",
    "import pandas as pd\n",
    "import os\n",
    "import os.path as op\n",
    "\n",
    "import matplotlib.pyplot as plt\n",
    "import seaborn as sns\n",
    "import ptitprince as pt\n"
   ]
  },
  {
   "cell_type": "code",
   "execution_count": 2,
   "outputs": [
    {
     "data": {
      "text/plain": "['subj01']"
     },
     "execution_count": 2,
     "metadata": {},
     "output_type": "execute_result"
    }
   ],
   "source": [
    "stats_list = ['FA', 'MD', 'RD'] #this should be an input argument\n",
    "TCK_NAME = 'extracted' #check with convention\n",
    "#path where all subjects live\n",
    "path_allsub = '/Users/alicja/Documents/Neurohackademy22/fsub'\n",
    "subjects = [ f.name for f in os.scandir(path_allsub) if f.is_dir() and 'sub' in f.name ]\n",
    "#get all subjects\n",
    "subjects\n"
   ],
   "metadata": {
    "collapsed": false,
    "pycharm": {
     "name": "#%%\n"
    }
   }
  },
  {
   "cell_type": "code",
   "execution_count": 3,
   "outputs": [
    {
     "name": "stdout",
     "output_type": "stream",
     "text": [
      "/Users/alicja/Documents/Neurohackademy22/fsub/subj01\n"
     ]
    }
   ],
   "source": [
    "print(op.join(path_allsub, subjects[0]))"
   ],
   "metadata": {
    "collapsed": false,
    "pycharm": {
     "name": "#%%\n"
    }
   }
  },
  {
   "cell_type": "code",
   "execution_count": 4,
   "outputs": [],
   "source": [
    "tck_files = [ f.path for f in os.scandir(op.join(path_allsub, subjects[0])) if f.is_file() if TCK_NAME in f.name ]\n"
   ],
   "metadata": {
    "collapsed": false,
    "pycharm": {
     "name": "#%%\n"
    }
   }
  },
  {
   "cell_type": "code",
   "execution_count": 7,
   "outputs": [],
   "source": [
    "fls = [ f.path for f in os.scandir(op.join(path_allsub, subjects[0])) if f.is_file() if 'stats.txt' in f.name ]"
   ],
   "metadata": {
    "collapsed": false,
    "pycharm": {
     "name": "#%%\n"
    }
   }
  },
  {
   "cell_type": "code",
   "execution_count": null,
   "outputs": [],
   "source": [
    "def extract_means(filename):\n",
    "    '''\n",
    "    Reads the tcksample output to get tract statistics\n",
    "    :param filename: a path with the filename to the file containing the values, output of the tcksample command\n",
    "    :return: a list with the values in floating point values\n",
    "    '''\n",
    "    with open(filename) as f:\n",
    "        return [float(val) for val in f.read().splitlines()[1].split(' ')]\n",
    "\n",
    "def proces_subject(sub, stats, plot = True):\n",
    "    '''\n",
    "    processes a single subject from the given path\n",
    "    :param sub: string, subject name; a string\n",
    "    :param stats: a list of strings, the statistics we are interested in\n",
    "    :param plot: boolean, should it export plots for the statistics, default is True\n",
    "    :return: none\n",
    "    '''\n",
    "    path = '/Users/alicja/Documents/Neurohackademy22/fsub/subj01/' #path to subject\n",
    "    inlist = []\n",
    "\n",
    "    # [TODO] generate the statistic files with mrtrix commandline \"tcksample\" command\n",
    "\n",
    "    #directory to the file containing statistics per streamline in the segmented data\n",
    "    for stat in stats:\n",
    "        inlist.append(op.join(path, stat))\n",
    "\n",
    "    stat_dict = {}\n",
    "\n",
    "    for stat, infile in zip(stats, inlist):\n",
    "        stat_dict[stat] = extract_means(infile)\n",
    "\n",
    "    #gather the data into a single dataframe\n",
    "    stat_df = pd.DataFrame(stat_dict)\n",
    "    stat_df.reset_index(inplace = True)\n",
    "    stat_df = stat_df.rename(columns = {'index':'streamline'})\n",
    "    stat_df['streamline'] = stat_df['streamline']+1\n",
    "\n",
    "    #make a tidy dataframe 'Stats' with the values for all the statistics - not used at the moment, might be used later\n",
    "    stat_melted = pd.melt(stat_df,\n",
    "                          ['streamline'],\n",
    "                          var_name='measurement',\n",
    "                          value_name='value')\n",
    "\n",
    "    stats_tidy = Stat_melted.sort_values(by=['streamline'], ignore_index=True)\n",
    "\n",
    "    # #Just checking\n",
    "    # print('FA Mean:\\t', np.mean(stat_df['FA']), '\\nFA SD:\\t\\t', np.std(stat_df['FA']))\n",
    "    # print('MD Mean:\\t', np.mean(stat_df['MD']), '\\nMD SD:\\t\\t', np.std(stat_df['MD']))\n",
    "    # print('RD Mean:\\t', np.mean(stat_df['RD']), '\\nMD SD:\\t\\t', np.std(stat_df['RD']))\n",
    "\n",
    "    #write the full statistics per streamline and the mean of all streamlines to a .tsv file\n",
    "    stat_df.to_csv('Stats_per_streamline.tsv', sep = '\\t', index = False)\n",
    "    #you can also do that for the tidy data\n",
    "    # Stats_tidy.to_csv('Tidy_stats.tsv', sep = '\\t', index = False)\n",
    "\n",
    "    #write summary statistics\n",
    "    with open(r'Summary_statistics_out.tsv', 'w') as fp:\n",
    "        #column names\n",
    "        fp.write('Stat\\tMean\\tSD\\n')\n",
    "        #contents\n",
    "        for stat in stats:\n",
    "            mean_stat = np.mean(stat_df[stat])\n",
    "            sd_stat = np.std(stat_df[stat])\n",
    "            fp.write(stat + '\\t' + str(mean_stat) + '\\t' + str(sd_stat) + '\\n')\n",
    "\n",
    "    if plot:\n",
    "        #plot the values and statistics\n",
    "        for stat in stats:\n",
    "\n",
    "            sns.set_theme(style=\"whitegrid\")\n",
    "\n",
    "            pal = 'viridis'\n",
    "            d = stat_df\n",
    "            dy = stat_df[stat]\n",
    "\n",
    "            ax, fig = plt.subplots(figsize=(4, 10))\n",
    "\n",
    "            #all of the individual values\n",
    "            ax = sns.stripplot(data = d,\n",
    "                               y = dy,\n",
    "                               size = 10,\n",
    "                               alpha = 0.25,\n",
    "                               #hue = d['streamline'],\n",
    "                               palette = pal)\n",
    "            #mean and SD\n",
    "            ax = sns.pointplot(data = d,\n",
    "                               y = dy,\n",
    "                               ci = 'sd',\n",
    "                               scale = 1.5,\n",
    "                               palette = pal)\n",
    "            #distriibution\n",
    "            ax = pt.half_violinplot(data = d,\n",
    "                                    y = dy,\n",
    "                                    bw = .3,\n",
    "                                    cut = 0.,\n",
    "                                    alpha = 0.4,\n",
    "                                    scale = \"area\",\n",
    "                                    width = .3,\n",
    "                                    inner = None,\n",
    "                                    linewidth=0,\n",
    "                                    palette = pal)\n",
    "\n",
    "            #set axes limit\n",
    "            plt.ylim(0, 1.1*max(dy))\n",
    "            #add a caption\n",
    "            text = 'Mean ' + stat + ': '+ str(np.mean(dy)) + '\\nSD: ' + str(np.std(dy))\n",
    "            plt.text(-0.4, 0.1*max(dy), text)\n",
    "            #make it pretty\n",
    "            sns.despine()\n",
    "\n",
    "            #don't show the plot\n",
    "            plt.close()\n",
    "            #save to a file\n",
    "            plt.savefig(op.join(path, sub, stat + '_visuals.png'), dpi = 300)"
   ],
   "metadata": {
    "collapsed": false,
    "pycharm": {
     "name": "#%%\n"
    }
   }
  },
  {
   "cell_type": "code",
   "execution_count": null,
   "outputs": [],
   "source": [],
   "metadata": {
    "collapsed": false,
    "pycharm": {
     "name": "#%%\n"
    }
   }
  }
 ],
 "metadata": {
  "kernelspec": {
   "display_name": "Python 3",
   "language": "python",
   "name": "python3"
  },
  "language_info": {
   "codemirror_mode": {
    "name": "ipython",
    "version": 2
   },
   "file_extension": ".py",
   "mimetype": "text/x-python",
   "name": "python",
   "nbconvert_exporter": "python",
   "pygments_lexer": "ipython2",
   "version": "2.7.6"
  }
 },
 "nbformat": 4,
 "nbformat_minor": 0
}