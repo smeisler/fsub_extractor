{
 "cells": [
  {
   "cell_type": "code",
   "execution_count": 2,
   "metadata": {
    "collapsed": true
   },
   "outputs": [],
   "source": [
    "import seaborn as sns\n",
    "import matplotlib.pyplot as plt\n",
    "import ptitprince as pt\n",
    "import numpy as np\n",
    "import pandas as pd"
   ]
  },
  {
   "cell_type": "code",
   "execution_count": 3,
   "outputs": [],
   "source": [
    "#directory to the file containing statistics per streamline in the segmented data\n",
    "FAstat = '/Users/alicja/Documents/Neurohackademy22/fsub/subj01/FA_stats.txt' #hardcoded, needs to change"
   ],
   "metadata": {
    "collapsed": false,
    "pycharm": {
     "name": "#%%\n"
    }
   }
  },
  {
   "cell_type": "code",
   "execution_count": 4,
   "outputs": [],
   "source": [
    "#read the file containing FA statistics\n",
    "with open(FAstat) as f:\n",
    "    FAs = [float(val) for val in f.read().splitlines()[1].split(' ')]"
   ],
   "metadata": {
    "collapsed": false,
    "pycharm": {
     "name": "#%%\n"
    }
   }
  },
  {
   "cell_type": "code",
   "execution_count": 5,
   "outputs": [],
   "source": [
    "#convert FA statistics to a dataframe\n",
    "FA_means = pd.DataFrame(FAs, columns = ['meanFA'])"
   ],
   "metadata": {
    "collapsed": false,
    "pycharm": {
     "name": "#%%\n"
    }
   }
  },
  {
   "cell_type": "code",
   "execution_count": 6,
   "outputs": [
    {
     "name": "stdout",
     "output_type": "stream",
     "text": [
      "Mean:\t 0.41912892461095885 \n",
      "SD:\t\t 0.039365483440029936\n"
     ]
    }
   ],
   "source": [
    "#Just checking\n",
    "print('Mean:\\t', np.mean(FA_means['meanFA']), '\\nSD:\\t\\t', np.std(FA_means['meanFA']))"
   ],
   "metadata": {
    "collapsed": false,
    "pycharm": {
     "name": "#%%\n"
    }
   }
  },
  {
   "cell_type": "code",
   "execution_count": 7,
   "outputs": [],
   "source": [
    "#write the FA statistics per streamline and the mean of all streamlines to a .tsv file\n",
    "with open(r'FA_out.tsv', 'w') as fp:\n",
    "    #change so the number of the bundle is also in the output, move \"Mean\" to label column\n",
    "    for val in FAs:\n",
    "        fp.write(\"%s\\n\" % val)\n",
    "    fp.write('\\nMean FA: ' + str(np.mean(FA_means['meanFA'])))\n",
    "    fp.write('\\nSD: ' + str(np.std(FA_means['meanFA'])))"
   ],
   "metadata": {
    "collapsed": false,
    "pycharm": {
     "name": "#%%\n"
    }
   }
  },
  {
   "cell_type": "code",
   "execution_count": 12,
   "outputs": [
    {
     "data": {
      "text/plain": "<Figure size 288x720 with 1 Axes>",
      "image/png": "[encoded data removed]"
     },
     "metadata": {},
     "output_type": "display_data"
    }
   ],
   "source": [
    "#plot the values and statistics\n",
    "sns.set_theme(style=\"whitegrid\")\n",
    "\n",
    "ax, fig = plt.subplots(figsize=(4, 10))\n",
    "\n",
    "#all of the individual values)\n",
    "ax = sns.stripplot(data = FA_means, size = 10, alpha = 0.25)\n",
    "#mean and SD\n",
    "ax = sns.pointplot(data = FA_means, ci = 'sd', scale = 1.5)\n",
    "#distriibution\n",
    "ax = pt.half_violinplot(data = FA_means, bw = .3, cut = 0., alpha = 0.4,\n",
    "                        scale = \"area\", width = .3, inner = None, linewidth=0)\n",
    "#set axes limit\n",
    "plt.ylim(0, 1.2*max(FA_means['meanFA']))\n",
    "#add a caption\n",
    "text = 'Mean FA:'+ str(round(np.mean(FA_means['meanFA']), 2)) + '\\nSD:' + str(round(np.std(FA_means['meanFA']), 2))\n",
    "plt.text(-0.4, 0.05, text)\n",
    "\n",
    "#make it pretty\n",
    "sns.despine()\n",
    "\n",
    "#save to a file\n",
    "plt.savefig('FAs_visuals.png')"
   ],
   "metadata": {
    "collapsed": false,
    "pycharm": {
     "name": "#%%\n"
    }
   }
  },
  {
   "cell_type": "code",
   "execution_count": null,
   "outputs": [],
   "source": [],
   "metadata": {
    "collapsed": false,
    "pycharm": {
     "name": "#%%\n"
    }
   }
  },
  {
   "cell_type": "code",
   "execution_count": null,
   "outputs": [],
   "source": [],
   "metadata": {
    "collapsed": false,
    "pycharm": {
     "name": "#%%\n"
    }
   }
  }
 ],
 "metadata": {
  "kernelspec": {
   "display_name": "Python 3",
   "language": "python",
   "name": "python3"
  },
  "language_info": {
   "codemirror_mode": {
    "name": "ipython",
    "version": 2
   },
   "file_extension": ".py",
   "mimetype": "text/x-python",
   "name": "python",
   "nbconvert_exporter": "python",
   "pygments_lexer": "ipython2",
   "version": "2.7.6"
  }
 },
 "nbformat": 4,
 "nbformat_minor": 0
}